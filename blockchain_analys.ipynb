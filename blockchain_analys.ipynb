{
  "nbformat": 4,
  "nbformat_minor": 0,
  "metadata": {
    "colab": {
      "name": "Copy of blockchain_analys.ipynb",
      "provenance": [],
      "collapsed_sections": [],
      "include_colab_link": true
    },
    "kernelspec": {
      "name": "python3",
      "display_name": "Python 3"
    }
  },
  "cells": [
    {
      "cell_type": "markdown",
      "metadata": {
        "id": "view-in-github",
        "colab_type": "text"
      },
      "source": [
        "<a href=\"https://colab.research.google.com/github/tubleronchik/SPO/blob/master/blockchain_analys.ipynb\" target=\"_parent\"><img src=\"https://colab.research.google.com/assets/colab-badge.svg\" alt=\"Open In Colab\"/></a>"
      ]
    },
    {
      "cell_type": "code",
      "metadata": {
        "id": "QzD1RH2yKnLh",
        "colab_type": "code",
        "colab": {}
      },
      "source": [
        "file = open('Blocks_infocop.txt', 'r')\n",
        "text = file.read().splitlines()\n",
        "file.close()\n",
        "blocks_kom = []\n",
        "blocks_otn = []\n",
        "blocks_num = []\n",
        "blocks_contracts = []\n",
        "for i in text:\n",
        "  i = i.split(',')\n",
        "  i[0]=int(i[0])\n",
        "  blocks_num.append(i[0])\n",
        "  i[1] = (float(i[1]))-2\n",
        "  blocks_kom.append(float(\"{0:.2f}\".format(i[1])))\n",
        "  i[2] = float(i[2])\n",
        "  blocks_otn.append(float(\"{0:.2f}\".format(i[2])))\n",
        "  i[3] = int(i[3])\n",
        "  blocks_contracts.append(i[3])\n",
        "print(blocks_num)\n",
        "print(blocks_kom)\n",
        "print(blocks_otn)\n",
        "print(blocks_contracts)\n"
      ],
      "execution_count": 0,
      "outputs": []
    },
    {
      "cell_type": "code",
      "metadata": {
        "id": "mtIT02TkS322",
        "colab_type": "code",
        "colab": {}
      },
      "source": [
        "file = open('Block_trcount.txt', 'r')\n",
        "trans_count = file.read().splitlines()\n",
        "file.close()\n",
        "for i in range(len(trans_count)):\n",
        "  trans_count[i] = float(trans_count[i])\n",
        "\n"
      ],
      "execution_count": 0,
      "outputs": []
    },
    {
      "cell_type": "code",
      "metadata": {
        "id": "vNDaJ05QN9hW",
        "colab_type": "code",
        "colab": {}
      },
      "source": [
        "import matplotlib.pyplot as plt"
      ],
      "execution_count": 0,
      "outputs": []
    },
    {
      "cell_type": "code",
      "metadata": {
        "id": "u74n8jc6N2u7",
        "colab_type": "code",
        "outputId": "8dd45dbc-02be-4b5a-96e7-0283b8849290",
        "colab": {
          "base_uri": "https://localhost:8080/",
          "height": 283
        }
      },
      "source": [
        "plt.scatter(blocks_kom, trans_count, color = 'r')\n",
        "plt.xlabel('Комиссия ')\n",
        "plt.ylabel('Количество транзакций')\n",
        "plt.ylim(0, 500)\n",
        "#plt.xlim(0, )\n",
        "plt.grid()\n",
        "plt.show()\n"
      ],
      "execution_count": 31,
      "outputs": [
        {
          "output_type": "display_data",
          "data": {
            "image/png": "[encoded data removed]",
            "text/plain": [
              "<Figure size 432x288 with 1 Axes>"
            ]
          },
          "metadata": {
            "tags": []
          }
        }
      ]
    },
    {
      "cell_type": "code",
      "metadata": {
        "id": "cpAsvRzTbbze",
        "colab_type": "code",
        "outputId": "ca4dd79e-9fcf-46cc-e700-4d4aeb72106e",
        "colab": {
          "base_uri": "https://localhost:8080/",
          "height": 121
        }
      },
      "source": [
        "print(\"Абсолютная комиссия:\")\n",
        "print(str(statistics.median(blocks_kom)) + '  - Медиана')\n",
        "print(str(max(blocks_kom) - min(blocks_kom)) + '  - Размах')\n",
        "average = statistics.mean(blocks_kom) \n",
        "print((\"{0:.3f}\".format(average)) + ' - Среднее значение')\n",
        "var = statistics.variance(blocks_kom)\n",
        "print((\"{0:.3f}\".format(var)) + ' - Дисперсия')\n",
        "std = statistics.stdev(blocks_kom)\n",
        "print((\"{0:.3f}\".format(std)) + ' - Среднеквадратическое отклонение')"
      ],
      "execution_count": 33,
      "outputs": [
        {
          "output_type": "stream",
          "text": [
            "Абсолютная комиссия:\n",
            "0.09  - Медиана\n",
            "0.34  - Размах\n",
            "0.102 - Среднее значение\n",
            "0.005 - Дисперсия\n",
            "0.068 - Среднеквадратическое отклонение\n"
          ],
          "name": "stdout"
        }
      ]
    },
    {
      "cell_type": "code",
      "metadata": {
        "id": "CZhVz4oXelMA",
        "colab_type": "code",
        "outputId": "11514408-4f63-49ec-dd6e-f2801072b930",
        "colab": {
          "base_uri": "https://localhost:8080/",
          "height": 121
        }
      },
      "source": [
        "print(\"Относительная комиссия:\")\n",
        "print(str(statistics.median(blocks_otn)) + '   - Медиана')\n",
        "print(str(max(blocks_otn) - min(blocks_otn)) + ' - Размах')\n",
        "average = statistics.mean(blocks_otn) \n",
        "print((\"{0:.3f}\".format(average)) + ' - Среднее значение')\n",
        "var = statistics.variance(blocks_otn)\n",
        "print((\"{0:.3f}\".format(var)) + ' - Дисперсия')\n",
        "std = statistics.stdev(blocks_otn)\n",
        "print((\"{0:.3f}\".format(std)) + ' - Среднеквадратическое отклонение')"
      ],
      "execution_count": 35,
      "outputs": [
        {
          "output_type": "stream",
          "text": [
            "Относительная комиссия:\n",
            "4.4   - Медиана\n",
            "14.36 - Размах\n",
            "4.739 - Среднее значение\n",
            "9.194 - Дисперсия\n",
            "3.032 - Среднеквадратическое отклонение\n"
          ],
          "name": "stdout"
        }
      ]
    }
  ]
}